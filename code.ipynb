{
 "cells": [
  {
   "cell_type": "code",
   "execution_count": 1,
   "id": "18f64122",
   "metadata": {},
   "outputs": [],
   "source": [
    "#Import required libraries\n",
    "import numpy as np\n",
    "import pandas as pd\n",
    "from sklearn.preprocessing import StandardScaler\n",
    "from sklearn.metrics.pairwise import cosine_similarity\n",
    "import matplotlib.pyplot as plt"
   ]
  },
  {
   "cell_type": "code",
   "execution_count": 2,
   "id": "367569cc",
   "metadata": {},
   "outputs": [],
   "source": [
    "#Load and preprocess the data\n",
    "data = pd.read_excel('Data.xlsx')\n",
    "data['Genre'] = data['Genre'].str.split(', ')\n",
    "data['Gross'] = pd.to_numeric(data['Gross'], errors='coerce')\n",
    "drama_movies = data[data['Genre'].apply(lambda x: 'Drama' in x)].copy()"
   ]
  },
  {
   "cell_type": "code",
   "execution_count": 3,
   "id": "a755c038",
   "metadata": {},
   "outputs": [],
   "source": [
    "#Create feature matrix for Drama movies\n",
    "drama_genres = set()\n",
    "for movie_genres in drama_movies['Genre']:\n",
    "    drama_genres.update(movie_genres)\n",
    "drama_genres = list(drama_genres)\n",
    "\n",
    "genre_matrix = np.zeros((len(drama_movies), len(drama_genres)))\n",
    "for i, movie_genres in enumerate(drama_movies['Genre']):\n",
    "    for genre in movie_genres:\n",
    "        genre_matrix[i, drama_genres.index(genre)] = 1\n",
    "\n",
    "scaler = StandardScaler()\n",
    "scaled_ratings = scaler.fit_transform(drama_movies[['IMDB_Rating']])\n",
    "features = np.hstack([genre_matrix, scaled_ratings])"
   ]
  },
  {
   "cell_type": "code",
   "execution_count": 4,
   "id": "f174893c",
   "metadata": {},
   "outputs": [],
   "source": [
    "#Calculate similarity matrix\n",
    "similarity_matrix = cosine_similarity(features)"
   ]
  },
  {
   "cell_type": "code",
   "execution_count": 5,
   "id": "08c0c467",
   "metadata": {},
   "outputs": [],
   "source": [
    "#Recommendation function\n",
    "def recommend_movies(movie_title, n=5):\n",
    "    try:\n",
    "        idx = drama_movies[drama_movies['Series_Title'] == movie_title].index[0]\n",
    "        scores = list(enumerate(similarity_matrix[idx]))\n",
    "        scores = sorted(scores, key=lambda x: x[1], reverse=True)\n",
    "        scores = scores[1:n+1]\n",
    "        \n",
    "        print(f\"\\nRecommendations similar to '{movie_title}':\")\n",
    "        print(\"----------------------------------------\")\n",
    "        for i, (movie_idx, score) in enumerate(scores):\n",
    "            print(f\"{i+1}. {drama_movies.iloc[movie_idx]['Series_Title']} ({drama_movies.iloc[movie_idx]['Released_Year']})\")\n",
    "            print(f\"   Genre: {', '.join(drama_movies.iloc[movie_idx]['Genre'])}\")\n",
    "            print(f\"   IMDB Rating: {drama_movies.iloc[movie_idx]['IMDB_Rating']}\")\n",
    "            print(f\"   Similarity: {score:.2f}\")\n",
    "            print(\"----------------------------------------\")\n",
    "            \n",
    "        plot_recommendations(movie_title, scores)\n",
    "        \n",
    "    except IndexError:\n",
    "        print(\"Movie not found in the database.\")"
   ]
  },
  {
   "cell_type": "code",
   "execution_count": 6,
   "id": "a3fd78de",
   "metadata": {},
   "outputs": [],
   "source": [
    "#Visualization function\n",
    "def plot_recommendations(movie_title, scores):\n",
    "    titles = [drama_movies.iloc[idx]['Series_Title'] for idx, _ in scores]\n",
    "    similarities = [sim for _, sim in scores]\n",
    "    years = [drama_movies.iloc[idx]['Released_Year'] for idx, _ in scores]\n",
    "\n",
    "    plt.figure(figsize=(10, 6))\n",
    "    plt.plot(range(len(similarities)), similarities, marker='o', linestyle='-', color='blue')\n",
    "    plt.xticks(range(len(titles)), titles, rotation=45, ha='right')\n",
    "    plt.ylabel('Similarity Score')\n",
    "    plt.title(f'Movies similar to \"{movie_title}\"')\n",
    "\n",
    "    # Add year labels above the points\n",
    "    for i, (x, y) in enumerate(zip(range(len(similarities)), similarities)):\n",
    "        plt.text(x, y + 0.01, str(years[i]), ha='center', fontsize=9)\n",
    "\n",
    "    plt.tight_layout()\n",
    "    plt.grid(True, linestyle='--', alpha=0.6)\n",
    "    plt.show()"
   ]
  },
  {
   "cell_type": "code",
   "execution_count": null,
   "id": "c37bd364",
   "metadata": {},
   "outputs": [],
   "source": [
    "#Example usage\n",
    "recommend_movies(\"The Shawshank Redemption\")\n",
    "recommend_movies(\"The Godfather\")"
   ]
  }
 ],
 "metadata": {
  "kernelspec": {
   "display_name": "Python 3",
   "language": "python",
   "name": "python3"
  },
  "language_info": {
   "codemirror_mode": {
    "name": "ipython",
    "version": 3
   },
   "file_extension": ".py",
   "mimetype": "text/x-python",
   "name": "python",
   "nbconvert_exporter": "python",
   "pygments_lexer": "ipython3",
   "version": "3.13.5"
  }
 },
 "nbformat": 4,
 "nbformat_minor": 5
}
